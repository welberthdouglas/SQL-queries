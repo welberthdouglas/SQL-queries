{
 "cells": [
  {
   "cell_type": "markdown",
   "metadata": {},
   "source": [
    "# PySpark DataFrame Basics\n",
    "\n",
    "Material Bruno Rocha Oliveira adaptado por Diandra Kubo 02/2020\n",
    "\n",
    "Links úteis:\n",
    "* Spark Dataframe and Operations https://www.analyticsvidhya.com/blog/2016/10/spark-dataframe-and-operations/\n",
    "* Kedro Tutorial  https://kedro.readthedocs.io/en/latest/03_tutorial/02_tutorial_template.html\n",
    "* Pandas Tutorial https://towardsdatascience.com/data-handling-using-pandas-machine-learning-in-real-life-be76a697418c"
   ]
  },
  {
   "cell_type": "markdown",
   "metadata": {
    "ExecuteTime": {
     "end_time": "2020-02-12T13:48:01.163219Z",
     "start_time": "2020-02-12T13:48:01.158424Z"
    }
   },
   "source": [
    "## Table of Contents:\n",
    "* [Select](#Select)\n",
    "* [Colunas](#Colunas)\n",
    "* [Filtros](#Filtros)\n",
    "* [Ordenação](#Ordenação)\n",
    "* [Criar campos calculados](#Criar-campos-calculados)\n",
    "* [Transformação de dados](#Tranformação-de-dados)\n",
    "* [Datas](#Datas)\n",
    "* [Nulos](#Nulos)\n",
    "* [Agrupamentos](#Agrupamentos)\n",
    "* [Joins](#Joins)"
   ]
  },
  {
   "cell_type": "markdown",
   "metadata": {},
   "source": [
    "Criando contexto spark a partir do contexto Kedro"
   ]
  },
  {
   "cell_type": "code",
   "execution_count": 1,
   "metadata": {
    "ExecuteTime": {
     "end_time": "2020-02-12T14:13:16.257495Z",
     "start_time": "2020-02-12T14:13:16.238004Z"
    }
   },
   "outputs": [],
   "source": [
    "spark = context.init_spark_session()"
   ]
  },
  {
   "cell_type": "markdown",
   "metadata": {},
   "source": [
    "Importando bibliotecas que serão utilizadas"
   ]
  },
  {
   "cell_type": "code",
   "execution_count": 2,
   "metadata": {
    "ExecuteTime": {
     "end_time": "2020-02-12T14:13:16.312509Z",
     "start_time": "2020-02-12T14:13:16.308008Z"
    }
   },
   "outputs": [],
   "source": [
    "import pandas as pd\n",
    "import numpy as np\n",
    "from pyspark.sql import functions as F\n",
    "import pickle\n",
    "from itertools import chain"
   ]
  },
  {
   "cell_type": "code",
   "execution_count": 3,
   "metadata": {
    "ExecuteTime": {
     "end_time": "2020-02-12T14:13:19.837455Z",
     "start_time": "2020-02-12T14:13:16.315478Z"
    }
   },
   "outputs": [],
   "source": [
    "df = spark.table(\"bg.bgdtpen\")"
   ]
  },
  {
   "cell_type": "markdown",
   "metadata": {},
   "source": [
    "## Select"
   ]
  },
  {
   "cell_type": "markdown",
   "metadata": {},
   "source": [
    "Selecionando colunas "
   ]
  },
  {
   "cell_type": "code",
   "execution_count": 4,
   "metadata": {
    "ExecuteTime": {
     "end_time": "2020-02-12T14:13:36.494504Z",
     "start_time": "2020-02-12T14:13:19.840224Z"
    }
   },
   "outputs": [
    {
     "name": "stdout",
     "output_type": "stream",
     "text": [
      "+----------------------------+-----------+-----------+\n",
      "|substring(centro_alta, 2, 1)|centro_alta|centro_alta|\n",
      "+----------------------------+-----------+-----------+\n",
      "|                           8|       3871|       3871|\n",
      "|                           8|       3871|       3871|\n",
      "+----------------------------+-----------+-----------+\n",
      "only showing top 2 rows\n",
      "\n"
     ]
    }
   ],
   "source": [
    "df.select (\n",
    "                F.expr(\"substring(centro_alta, 2, 1)\"),\n",
    "                F.col(\"centro_alta\"),\n",
    "                F.column(\"centro_alta\"))\\\n",
    ".show(2)"
   ]
  },
  {
   "cell_type": "markdown",
   "metadata": {},
   "source": [
    "Selecionando colunas com alias"
   ]
  },
  {
   "cell_type": "code",
   "execution_count": 5,
   "metadata": {
    "ExecuteTime": {
     "end_time": "2020-02-12T14:13:49.559314Z",
     "start_time": "2020-02-12T14:13:36.497199Z"
    }
   },
   "outputs": [
    {
     "name": "stdout",
     "output_type": "stream",
     "text": [
      "+----+-------+--------+\n",
      "|dest|destino|destino2|\n",
      "+----+-------+--------+\n",
      "|1578|   1578|    1578|\n",
      "|1578|   1578|    1578|\n",
      "+----+-------+--------+\n",
      "only showing top 2 rows\n",
      "\n"
     ]
    }
   ],
   "source": [
    "df.select (\n",
    "                F.expr(\"centro_alta\").alias(\"dest\"),\n",
    "                F.col(\"centro_alta\").alias(\"destino\"),\n",
    "                F.column(\"centro_alta\").alias(\"destino2\"))\\\n",
    ".show(2)"
   ]
  },
  {
   "cell_type": "markdown",
   "metadata": {},
   "source": [
    "Selecionando todas as colunas"
   ]
  },
  {
   "cell_type": "code",
   "execution_count": 6,
   "metadata": {
    "ExecuteTime": {
     "end_time": "2020-02-12T14:14:07.145679Z",
     "start_time": "2020-02-12T14:13:49.561480Z"
    },
    "scrolled": true
   },
   "outputs": [
    {
     "name": "stdout",
     "output_type": "stream",
     "text": [
      "+-------+-----------+------------+------+---------+------+-------+--------+------------+--------------+-------------+-----------+----------+---------+-----------+------+-----------+------------+-----------+---------+------------+-----------+--------+--------+-------+-------+------------+--------+-----------+------------+---------+-----------+-----+----------+-------------+--------+-----------+--------------+--------+----------+--------+-----+-----+-----+-----------+----------+----------+----------+-----------+--------------------+-------------+-------------+-----------------+-------------+\n",
      "|entidad|centro_alta|      cuenta|divisa|numer_mov|codigo|importe|concepto|cod_impuesto|impor_impuesto|cpto_impuesto|fecha_conta|fecha_oper|hora_oper|fecha_valor|cheque|ref_interna|ind_desdobla|ind_observa|saldo_aut|entidad_cont|centro_cont|producto|subprodu|ind_aom|ind_act|ind_anulable|ind_anul|ind_car_abo|ind_giro_dep|codigo_ur|tipo_cambio|canal|ind_contab|ind_impto_mir|ind_ppal|transaccion|cod_aplicacion|term_nio| fecha_nio|hora_nio|mov30|mov60|mov90|entidad_umo|centro_umo|userid_umo|cajero_umo|netname_umo|          timest_umo|discriminante|div_contraria|tx_comp_hist_lanc|dat_ref_carga|\n",
      "+-------+-----------+------------+------+---------+------+-------+--------+------------+--------------+-------------+-----------+----------+---------+-----------+------+-----------+------------+-----------+---------+------------+-----------+--------+--------+-------+-------+------------+--------+-----------+------------+---------+-----------+-----+----------+-------------+--------+-----------+--------------+--------+----------+--------+-----+-----+-----+-----------+----------+----------+----------+-----------+--------------------+-------------+-------------+-----------------+-------------+\n",
      "|   0033|       1579|000010000315|   BRL|     1733|  0086| -70.00|        |            |          0.00|             | 2019-07-29|2019-07-29|     1219| 2019-07-29|     0|           |           N|          1|   248.62|        0033|       1579|      22|    8949|      M|      N|           S|       N|          D|            |         |   0.000000|   15|         N|            N|       N|       B501|            MP|    ?Z3W|2019-07-29|12194800| 0.00| 0.00| 0.00|       0033|      7097|   MQPAMPA|         A|       ?Z3W|2019-07-29 12:19:...|   9151946339|          NFN|                 |   2019-07-30|\n",
      "+-------+-----------+------------+------+---------+------+-------+--------+------------+--------------+-------------+-----------+----------+---------+-----------+------+-----------+------------+-----------+---------+------------+-----------+--------+--------+-------+-------+------------+--------+-----------+------------+---------+-----------+-----+----------+-------------+--------+-----------+--------------+--------+----------+--------+-----+-----+-----+-----------+----------+----------+----------+-----------+--------------------+-------------+-------------+-----------------+-------------+\n",
      "only showing top 1 row\n",
      "\n"
     ]
    }
   ],
   "source": [
    "df.select (F.expr(\"*\"))\\\n",
    ".show(1)"
   ]
  },
  {
   "cell_type": "markdown",
   "metadata": {},
   "source": [
    "Passar uma constante "
   ]
  },
  {
   "cell_type": "code",
   "execution_count": 7,
   "metadata": {
    "ExecuteTime": {
     "end_time": "2020-02-12T14:14:21.718933Z",
     "start_time": "2020-02-12T14:14:07.147889Z"
    }
   },
   "outputs": [
    {
     "name": "stdout",
     "output_type": "stream",
     "text": [
      "+-----------+------------+---+\n",
      "|centro_alta|      cuenta|One|\n",
      "+-----------+------------+---+\n",
      "|       0805|000010000198|  1|\n",
      "|       0805|000010000198|  1|\n",
      "+-----------+------------+---+\n",
      "only showing top 2 rows\n",
      "\n"
     ]
    }
   ],
   "source": [
    "from pyspark.sql.functions import lit\n",
    "df.select(F.expr(\"centro_alta\"), \n",
    "          F.col(\"cuenta\"), \n",
    "          lit(1).alias(\"One\")).show(2)"
   ]
  },
  {
   "cell_type": "markdown",
   "metadata": {},
   "source": [
    "## Colunas"
   ]
  },
  {
   "cell_type": "markdown",
   "metadata": {},
   "source": [
    "Adicionando colunas no dataframe "
   ]
  },
  {
   "cell_type": "code",
   "execution_count": 8,
   "metadata": {
    "ExecuteTime": {
     "end_time": "2020-02-12T14:14:34.361861Z",
     "start_time": "2020-02-12T14:14:21.722178Z"
    },
    "scrolled": true
   },
   "outputs": [
    {
     "name": "stdout",
     "output_type": "stream",
     "text": [
      "+-------+-----------+------------+------+---------+------+-------+--------+------------+--------------+-------------+-----------+----------+---------+-----------+------+-----------+------------+-----------+---------+------------+-----------+--------+--------+-------+-------+------------+--------+-----------+------------+---------+-----------+-----+----------+-------------+--------+-----------+--------------+--------+----------+--------+-----+-----+-----+-----------+----------+----------+----------+-----------+--------------------+-------------+-------------+-----------------+-------------+---------+\n",
      "|entidad|centro_alta|      cuenta|divisa|numer_mov|codigo|importe|concepto|cod_impuesto|impor_impuesto|cpto_impuesto|fecha_conta|fecha_oper|hora_oper|fecha_valor|cheque|ref_interna|ind_desdobla|ind_observa|saldo_aut|entidad_cont|centro_cont|producto|subprodu|ind_aom|ind_act|ind_anulable|ind_anul|ind_car_abo|ind_giro_dep|codigo_ur|tipo_cambio|canal|ind_contab|ind_impto_mir|ind_ppal|transaccion|cod_aplicacion|term_nio| fecha_nio|hora_nio|mov30|mov60|mov90|entidad_umo|centro_umo|userid_umo|cajero_umo|netname_umo|          timest_umo|discriminante|div_contraria|tx_comp_hist_lanc|dat_ref_carga|numberOne|\n",
      "+-------+-----------+------------+------+---------+------+-------+--------+------------+--------------+-------------+-----------+----------+---------+-----------+------+-----------+------------+-----------+---------+------------+-----------+--------+--------+-------+-------+------------+--------+-----------+------------+---------+-----------+-----+----------+-------------+--------+-----------+--------------+--------+----------+--------+-----+-----+-----+-----------+----------+----------+----------+-----------+--------------------+-------------+-------------+-----------------+-------------+---------+\n",
      "|   0033|       4728|000010000114|   BRL|     2162|  3837|   0.02|        |            |          0.00|             | 2019-01-02|2019-01-03|     0125| 2019-01-02|     0|           |           N|          1|  4387.67|        0033|       4728|      22|    8949|      M|      N|           S|       N|          H|            |         |   0.000000|   99|         N|            N|       S|           |            BP|    3B68|2019-01-03|01254262| 0.00| 0.00| 0.00|       0033|      4728|  BG4CM601|         B|   BPBP3B68|2019-01-04 01:25:...|             |          NFN|                 |   2019-01-07|        1|\n",
      "|   0033|       4728|000010000114|   BRL|     2163|  0922|-161.00|        |            |          0.00|             | 2019-01-04|2019-01-04|     1500| 2019-01-04|     0|           |           N|          1|  4387.69|        0033|       4728|      22|    8949|      M|      N|           S|       N|          D|            |         |   0.000000|   15|         N|            N|       N|       B501|            MP|    ?2RC|2019-01-04|15000829| 0.00| 0.00| 0.00|       0033|      7097|   MQPAMPA|         A|       ?2RC|2019-01-04 15:00:...|       000872|          NFN|      04/01 DARCO|   2019-01-07|        1|\n",
      "+-------+-----------+------------+------+---------+------+-------+--------+------------+--------------+-------------+-----------+----------+---------+-----------+------+-----------+------------+-----------+---------+------------+-----------+--------+--------+-------+-------+------------+--------+-----------+------------+---------+-----------+-----+----------+-------------+--------+-----------+--------------+--------+----------+--------+-----+-----+-----+-----------+----------+----------+----------+-----------+--------------------+-------------+-------------+-----------------+-------------+---------+\n",
      "only showing top 2 rows\n",
      "\n"
     ]
    }
   ],
   "source": [
    "df.withColumn(\"numberOne\", lit(1)).show(2)"
   ]
  },
  {
   "cell_type": "code",
   "execution_count": 9,
   "metadata": {
    "ExecuteTime": {
     "end_time": "2020-02-12T14:15:02.070129Z",
     "start_time": "2020-02-12T14:14:34.364411Z"
    },
    "scrolled": true
   },
   "outputs": [
    {
     "name": "stdout",
     "output_type": "stream",
     "text": [
      "+-------+-----------+------------+------+---------+------+--------+--------+------------+--------------+-------------+-----------+----------+---------+-----------+------+---------------+------------+-----------+----------+------------+-----------+--------+--------+-------+-------+------------+--------+-----------+------------+---------+-----------+-----+----------+-------------+--------+-----------+--------------+--------+----------+--------+-----+-----+-----+-----------+----------+----------+----------+-----------+--------------------+-------------+-------------+-----------------+-------------+------------------+\n",
      "|entidad|centro_alta|      cuenta|divisa|numer_mov|codigo| importe|concepto|cod_impuesto|impor_impuesto|cpto_impuesto|fecha_conta|fecha_oper|hora_oper|fecha_valor|cheque|    ref_interna|ind_desdobla|ind_observa| saldo_aut|entidad_cont|centro_cont|producto|subprodu|ind_aom|ind_act|ind_anulable|ind_anul|ind_car_abo|ind_giro_dep|codigo_ur|tipo_cambio|canal|ind_contab|ind_impto_mir|ind_ppal|transaccion|cod_aplicacion|term_nio| fecha_nio|hora_nio|mov30|mov60|mov90|entidad_umo|centro_umo|userid_umo|cajero_umo|netname_umo|          timest_umo|discriminante|div_contraria|tx_comp_hist_lanc|dat_ref_carga|target_centro_alta|\n",
      "+-------+-----------+------------+------+---------+------+--------+--------+------------+--------------+-------------+-----------+----------+---------+-----------+------+---------------+------------+-----------+----------+------------+-----------+--------+--------+-------+-------+------------+--------+-----------+------------+---------+-----------+-----+----------+-------------+--------+-----------+--------------+--------+----------+--------+-----+-----+-----+-----------+----------+----------+----------+-----------+--------------------+-------------+-------------+-----------------+-------------+------------------+\n",
      "|   0033|       0001|000130267743|   BRL|  7261146|  8818| -116.07|        |            |          0.00|             | 2017-12-12|2017-12-12|     0041| 2017-12-12|     0|NR.000000000000|           N|          1|1241212.91|        0033|       0001|      22|    2105|      A|      N|           S|       N|          D|            |         |   0.000000|   99|         N|            N|       S|           |            IY|    7050|2017-12-12|22.23.24| 0.00| 0.00| 0.00|       0033|      0001|  IY3C7050|         C|   IYBD500E|2017-12-13 00:41:...|   0000000000|          NJN|                 |   2017-12-14|              true|\n",
      "|   0033|       0001|000130267743|   BRL|  7261147|  8818|-3550.08|        |            |          0.00|             | 2017-12-12|2017-12-12|     0041| 2017-12-12|     0|NR.000000000000|           N|          1|1241096.84|        0033|       0001|      22|    2105|      A|      N|           S|       N|          D|            |         |   0.000000|   99|         N|            N|       S|           |            IY|    7050|2017-12-12|20.02.40| 0.00| 0.00| 0.00|       0033|      0001|  IY3C7050|         C|   IYBD500E|2017-12-13 00:41:...|   0000000000|          NJN|                 |   2017-12-14|              true|\n",
      "+-------+-----------+------------+------+---------+------+--------+--------+------------+--------------+-------------+-----------+----------+---------+-----------+------+---------------+------------+-----------+----------+------------+-----------+--------+--------+-------+-------+------------+--------+-----------+------------+---------+-----------+-----+----------+-------------+--------+-----------+--------------+--------+----------+--------+-----+-----+-----+-----------+----------+----------+----------+-----------+--------------------+-------------+-------------+-----------------+-------------+------------------+\n",
      "only showing top 2 rows\n",
      "\n"
     ]
    }
   ],
   "source": [
    "df.withColumn(\"target_centro_alta\", \n",
    "            F.expr(\"centro_alta == '0001'\"))\\\n",
    ".show(2)"
   ]
  },
  {
   "cell_type": "markdown",
   "metadata": {},
   "source": [
    "Renomeando colunas"
   ]
  },
  {
   "cell_type": "code",
   "execution_count": 10,
   "metadata": {
    "ExecuteTime": {
     "end_time": "2020-02-12T14:15:02.104054Z",
     "start_time": "2020-02-12T14:15:02.074477Z"
    }
   },
   "outputs": [
    {
     "data": {
      "text/plain": [
       "['entidad',\n",
       " 'agencia',\n",
       " 'cuenta',\n",
       " 'divisa',\n",
       " 'numer_mov',\n",
       " 'codigo',\n",
       " 'importe',\n",
       " 'concepto',\n",
       " 'cod_impuesto',\n",
       " 'impor_impuesto',\n",
       " 'cpto_impuesto',\n",
       " 'fecha_conta',\n",
       " 'fecha_oper',\n",
       " 'hora_oper',\n",
       " 'fecha_valor',\n",
       " 'cheque',\n",
       " 'ref_interna',\n",
       " 'ind_desdobla',\n",
       " 'ind_observa',\n",
       " 'saldo_aut',\n",
       " 'entidad_cont',\n",
       " 'centro_cont',\n",
       " 'producto',\n",
       " 'subprodu',\n",
       " 'ind_aom',\n",
       " 'ind_act',\n",
       " 'ind_anulable',\n",
       " 'ind_anul',\n",
       " 'ind_car_abo',\n",
       " 'ind_giro_dep',\n",
       " 'codigo_ur',\n",
       " 'tipo_cambio',\n",
       " 'canal',\n",
       " 'ind_contab',\n",
       " 'ind_impto_mir',\n",
       " 'ind_ppal',\n",
       " 'transaccion',\n",
       " 'cod_aplicacion',\n",
       " 'term_nio',\n",
       " 'fecha_nio',\n",
       " 'hora_nio',\n",
       " 'mov30',\n",
       " 'mov60',\n",
       " 'mov90',\n",
       " 'entidad_umo',\n",
       " 'centro_umo',\n",
       " 'userid_umo',\n",
       " 'cajero_umo',\n",
       " 'netname_umo',\n",
       " 'timest_umo',\n",
       " 'discriminante',\n",
       " 'div_contraria',\n",
       " 'tx_comp_hist_lanc',\n",
       " 'dat_ref_carga']"
      ]
     },
     "execution_count": 10,
     "metadata": {},
     "output_type": "execute_result"
    }
   ],
   "source": [
    "df.withColumnRenamed(\"centro_alta\", \"agencia\").columns"
   ]
  },
  {
   "cell_type": "markdown",
   "metadata": {},
   "source": [
    "Removendo colunas"
   ]
  },
  {
   "cell_type": "code",
   "execution_count": 11,
   "metadata": {
    "ExecuteTime": {
     "end_time": "2020-02-12T14:15:02.118898Z",
     "start_time": "2020-02-12T14:15:02.106315Z"
    }
   },
   "outputs": [
    {
     "data": {
      "text/plain": [
       "['entidad',\n",
       " 'centro_alta',\n",
       " 'cuenta',\n",
       " 'divisa',\n",
       " 'numer_mov',\n",
       " 'codigo',\n",
       " 'importe',\n",
       " 'cod_impuesto',\n",
       " 'impor_impuesto',\n",
       " 'cpto_impuesto',\n",
       " 'fecha_conta',\n",
       " 'fecha_oper',\n",
       " 'hora_oper',\n",
       " 'fecha_valor',\n",
       " 'cheque',\n",
       " 'ref_interna',\n",
       " 'ind_desdobla',\n",
       " 'ind_observa',\n",
       " 'saldo_aut',\n",
       " 'entidad_cont',\n",
       " 'centro_cont',\n",
       " 'producto',\n",
       " 'subprodu',\n",
       " 'ind_aom',\n",
       " 'ind_act',\n",
       " 'ind_anulable',\n",
       " 'ind_anul',\n",
       " 'ind_car_abo',\n",
       " 'ind_giro_dep',\n",
       " 'codigo_ur',\n",
       " 'tipo_cambio',\n",
       " 'canal',\n",
       " 'ind_contab',\n",
       " 'ind_impto_mir',\n",
       " 'ind_ppal',\n",
       " 'transaccion',\n",
       " 'cod_aplicacion',\n",
       " 'term_nio',\n",
       " 'fecha_nio',\n",
       " 'hora_nio',\n",
       " 'mov30',\n",
       " 'mov60',\n",
       " 'mov90',\n",
       " 'entidad_umo',\n",
       " 'centro_umo',\n",
       " 'userid_umo',\n",
       " 'cajero_umo',\n",
       " 'netname_umo',\n",
       " 'timest_umo',\n",
       " 'discriminante',\n",
       " 'div_contraria',\n",
       " 'tx_comp_hist_lanc',\n",
       " 'dat_ref_carga']"
      ]
     },
     "execution_count": 11,
     "metadata": {},
     "output_type": "execute_result"
    }
   ],
   "source": [
    "df.drop(\"concepto\").columns"
   ]
  },
  {
   "cell_type": "markdown",
   "metadata": {},
   "source": [
    "Cast colunas "
   ]
  },
  {
   "cell_type": "code",
   "execution_count": 12,
   "metadata": {
    "ExecuteTime": {
     "end_time": "2020-02-12T14:15:02.138845Z",
     "start_time": "2020-02-12T14:15:02.121049Z"
    },
    "scrolled": true
   },
   "outputs": [
    {
     "data": {
      "text/plain": [
       "DataFrame[entidad: string, centro_alta: string, cuenta: string, divisa: string, numer_mov: decimal(11,0), codigo: string, importe: decimal(17,2), concepto: string, cod_impuesto: string, impor_impuesto: decimal(17,2), cpto_impuesto: string, fecha_conta: string, fecha_oper: string, hora_oper: string, fecha_valor: string, cheque: decimal(11,0), ref_interna: string, ind_desdobla: string, ind_observa: string, saldo_aut: decimal(17,2), entidad_cont: string, centro_cont: string, producto: string, subprodu: string, ind_aom: string, ind_act: string, ind_anulable: string, ind_anul: string, ind_car_abo: string, ind_giro_dep: string, codigo_ur: string, tipo_cambio: decimal(11,6), canal: string, ind_contab: string, ind_impto_mir: string, ind_ppal: string, transaccion: string, cod_aplicacion: string, term_nio: string, fecha_nio: string, hora_nio: string, mov30: decimal(17,2), mov60: decimal(17,2), mov90: decimal(17,2), entidad_umo: string, centro_umo: string, userid_umo: string, cajero_umo: string, netname_umo: string, timest_umo: timestamp, discriminante: string, div_contraria: string, tx_comp_hist_lanc: string, dat_ref_carga: string, agencia_int: int]"
      ]
     },
     "execution_count": 12,
     "metadata": {},
     "output_type": "execute_result"
    }
   ],
   "source": [
    "df.withColumn(\"agencia_int\", F.col(\"centro_alta\").cast(\"integer\"))"
   ]
  },
  {
   "cell_type": "markdown",
   "metadata": {},
   "source": [
    "## Filtros"
   ]
  },
  {
   "cell_type": "markdown",
   "metadata": {},
   "source": [
    "Filtrando registros"
   ]
  },
  {
   "cell_type": "code",
   "execution_count": 13,
   "metadata": {
    "ExecuteTime": {
     "end_time": "2020-02-12T14:15:14.969314Z",
     "start_time": "2020-02-12T14:15:02.140955Z"
    }
   },
   "outputs": [
    {
     "name": "stdout",
     "output_type": "stream",
     "text": [
      "+-------+-----------+------------+------+---------+------+--------+--------+------------+--------------+-------------+-----------+----------+---------+-----------+------+-----------+------------+-----------+---------+------------+-----------+--------+--------+-------+-------+------------+--------+-----------+------------+---------+-----------+-----+----------+-------------+--------+-----------+--------------+--------+----------+--------+-----+-----+-----+-----------+----------+----------+----------+-----------+--------------------+-------------+-------------+--------------------+-------------+\n",
      "|entidad|centro_alta|      cuenta|divisa|numer_mov|codigo| importe|concepto|cod_impuesto|impor_impuesto|cpto_impuesto|fecha_conta|fecha_oper|hora_oper|fecha_valor|cheque|ref_interna|ind_desdobla|ind_observa|saldo_aut|entidad_cont|centro_cont|producto|subprodu|ind_aom|ind_act|ind_anulable|ind_anul|ind_car_abo|ind_giro_dep|codigo_ur|tipo_cambio|canal|ind_contab|ind_impto_mir|ind_ppal|transaccion|cod_aplicacion|term_nio| fecha_nio|hora_nio|mov30|mov60|mov90|entidad_umo|centro_umo|userid_umo|cajero_umo|netname_umo|          timest_umo|discriminante|div_contraria|   tx_comp_hist_lanc|dat_ref_carga|\n",
      "+-------+-----------+------------+------+---------+------+--------+--------+------------+--------------+-------------+-----------+----------+---------+-----------+------+-----------+------------+-----------+---------+------------+-----------+--------+--------+-------+-------+------------+--------+-----------+------------+---------+-----------+-----+----------+-------------+--------+-----------+--------------+--------+----------+--------+-----+-----+-----+-----------+----------+----------+----------+-----------+--------------------+-------------+-------------+--------------------+-------------+\n",
      "|   0033|       1687|000010000018|   BRL|     2351|  0838|-1000.00|        |            |          0.00|             | 2019-10-29|2019-10-29|     1624| 2019-10-29|     0|           |           N|          1|  1088.69|        0033|       1687|      22|    8949|      M|      N|           S|       N|          D|            |         |   0.000000|   35|         N|            N|       N|       PZA7|            PZ|    ?1AO|2019-10-29|16241007| 0.00| 0.00| 0.00|       0033|      1687|   C351687|         A|       ?1AO|2019-10-29 16:24:...|             |          NFN|001-1779-00000023...|   2019-10-30|\n",
      "|   0033|       1687|000010000032|   BRL|     3406|  0469|   81.22|        |            |          0.00|             | 2019-10-29|2019-10-29|     1149| 2019-10-29|     0|           |           N|          1| -2345.33|        0033|       1687|      22|    8949|      M|      N|           S|       N|          H|            |         |   0.000000|   00|         N|            N|       N|       B601|            PZ|    ?83Q|2019-10-29|11492243| 0.00| 0.00| 0.00|       0033|      1687|   DHE1687|         A|       ?83Q|2019-10-29 11:49:...|             |          NFN|JOAO PAULO RODRIG...|   2019-10-30|\n",
      "+-------+-----------+------------+------+---------+------+--------+--------+------------+--------------+-------------+-----------+----------+---------+-----------+------+-----------+------------+-----------+---------+------------+-----------+--------+--------+-------+-------+------------+--------+-----------+------------+---------+-----------+-----+----------+-------------+--------+-----------+--------------+--------+----------+--------+-----+-----+-----+-----------+----------+----------+----------+-----------+--------------------+-------------+-------------+--------------------+-------------+\n",
      "only showing top 2 rows\n",
      "\n"
     ]
    }
   ],
   "source": [
    "df.filter(F.col(\"importe\") < 100).show(2)"
   ]
  },
  {
   "cell_type": "markdown",
   "metadata": {},
   "source": [
    "Varios filtros \n",
    "\n",
    "```\n",
    "SELECT * \n",
    "FROM df \n",
    "WHERE importe < 100 \n",
    "AND dat_ref_carga == \"2020-01-06\"\n",
    "AND centro_alta == '0002'\n",
    "LIMIT 2\n",
    "```"
   ]
  },
  {
   "cell_type": "code",
   "execution_count": 14,
   "metadata": {
    "ExecuteTime": {
     "end_time": "2020-02-12T14:17:29.265947Z",
     "start_time": "2020-02-12T14:15:14.971606Z"
    }
   },
   "outputs": [
    {
     "name": "stdout",
     "output_type": "stream",
     "text": [
      "+-------+-----------+------------+------+---------+------+-------+--------+------------+--------------+-------------+-----------+----------+---------+-----------+------+-----------+------------+-----------+---------+------------+-----------+--------+--------+-------+-------+------------+--------+-----------+------------+---------+-----------+-----+----------+-------------+--------+-----------+--------------+--------+----------+--------+-----+-----+-----+-----------+----------+----------+----------+-----------+--------------------+-------------+-------------+--------------------+-------------+\n",
      "|entidad|centro_alta|      cuenta|divisa|numer_mov|codigo|importe|concepto|cod_impuesto|impor_impuesto|cpto_impuesto|fecha_conta|fecha_oper|hora_oper|fecha_valor|cheque|ref_interna|ind_desdobla|ind_observa|saldo_aut|entidad_cont|centro_cont|producto|subprodu|ind_aom|ind_act|ind_anulable|ind_anul|ind_car_abo|ind_giro_dep|codigo_ur|tipo_cambio|canal|ind_contab|ind_impto_mir|ind_ppal|transaccion|cod_aplicacion|term_nio| fecha_nio|hora_nio|mov30|mov60|mov90|entidad_umo|centro_umo|userid_umo|cajero_umo|netname_umo|          timest_umo|discriminante|div_contraria|   tx_comp_hist_lanc|dat_ref_carga|\n",
      "+-------+-----------+------------+------+---------+------+-------+--------+------------+--------------+-------------+-----------+----------+---------+-----------+------+-----------+------------+-----------+---------+------------+-----------+--------+--------+-------+-------+------------+--------+-----------+------------+---------+-----------+-----+----------+-------------+--------+-----------+--------------+--------+----------+--------+-----+-----+-----+-----------+----------+----------+----------+-----------+--------------------+-------------+-------------+--------------------+-------------+\n",
      "|   0033|       0002|000010005848|   BRL|     2793|  0058|-200.00|        |            |          0.00|             | 2020-01-03|2020-01-03|     1250| 2020-01-03|     0|           |           N|          1|  7887.69|        0033|       0002|      22|    8949|      M|      N|           S|       N|          D|            |         |   0.000000|   08|         N|            N|       N|       BGS1|            C4|     IV1|2020-01-03|12502299| 0.00| 0.00| 0.00|       0033|      0570|   DHC0570|         A|        IV1|2020-01-03 12:50:...|       600570|          NFN|                    |   2020-01-06|\n",
      "|   0033|       0002|000010008298|   BRL|    11709|  0070|-400.00|        |            |          0.00|             | 2020-01-03|2020-01-03|     1248| 2020-01-03|     0|           |           N|          1|   468.88|        0033|       0002|      22|    8949|      M|      N|           S|       N|          D|            |         |   0.000000|   06|         S|            N|       S|       BGT0|            BG|    &47Z|2020-01-03|12485808| 0.00| 0.00| 0.00|       0033|      0002|   C350002|         B|       &47Z|2020-01-03 12:48:...|     12485809|          TFN|ORESTES RIBEIRO J...|   2020-01-06|\n",
      "+-------+-----------+------------+------+---------+------+-------+--------+------------+--------------+-------------+-----------+----------+---------+-----------+------+-----------+------------+-----------+---------+------------+-----------+--------+--------+-------+-------+------------+--------+-----------+------------+---------+-----------+-----+----------+-------------+--------+-----------+--------------+--------+----------+--------+-----+-----+-----+-----------+----------+----------+----------+-----------+--------------------+-------------+-------------+--------------------+-------------+\n",
      "only showing top 2 rows\n",
      "\n"
     ]
    }
   ],
   "source": [
    "df = df.where(F.col(\"importe\") < 100)\\\n",
    "       .where(F.col(\"dat_ref_carga\") == \"2020-01-06\")\\\n",
    "       .where(F.col(\"centro_alta\") == \"0002\")\n",
    "df.show(2)"
   ]
  },
  {
   "cell_type": "markdown",
   "metadata": {},
   "source": [
    "Filtro OR\n",
    "```\n",
    "SELECT *\n",
    "FROM df\n",
    "WHERE importe<10 or importe>90\n",
    "```"
   ]
  },
  {
   "cell_type": "code",
   "execution_count": 15,
   "metadata": {
    "ExecuteTime": {
     "end_time": "2020-02-12T14:18:46.797623Z",
     "start_time": "2020-02-12T14:17:29.269264Z"
    }
   },
   "outputs": [
    {
     "name": "stdout",
     "output_type": "stream",
     "text": [
      "+-------+-----------+------------+------+---------+------+-------+--------+------------+--------------+-------------+-----------+----------+---------+-----------+------+-----------+------------+-----------+---------+------------+-----------+--------+--------+-------+-------+------------+--------+-----------+------------+---------+-----------+-----+----------+-------------+--------+-----------+--------------+--------+----------+--------+-----+-----+-----+-----------+----------+----------+----------+-----------+--------------------+-------------+-------------+--------------------+-------------+\n",
      "|entidad|centro_alta|      cuenta|divisa|numer_mov|codigo|importe|concepto|cod_impuesto|impor_impuesto|cpto_impuesto|fecha_conta|fecha_oper|hora_oper|fecha_valor|cheque|ref_interna|ind_desdobla|ind_observa|saldo_aut|entidad_cont|centro_cont|producto|subprodu|ind_aom|ind_act|ind_anulable|ind_anul|ind_car_abo|ind_giro_dep|codigo_ur|tipo_cambio|canal|ind_contab|ind_impto_mir|ind_ppal|transaccion|cod_aplicacion|term_nio| fecha_nio|hora_nio|mov30|mov60|mov90|entidad_umo|centro_umo|userid_umo|cajero_umo|netname_umo|          timest_umo|discriminante|div_contraria|   tx_comp_hist_lanc|dat_ref_carga|\n",
      "+-------+-----------+------------+------+---------+------+-------+--------+------------+--------------+-------------+-----------+----------+---------+-----------+------+-----------+------------+-----------+---------+------------+-----------+--------+--------+-------+-------+------------+--------+-----------+------------+---------+-----------+-----+----------+-------------+--------+-----------+--------------+--------+----------+--------+-----+-----+-----+-----------+----------+----------+----------+-----------+--------------------+-------------+-------------+--------------------+-------------+\n",
      "|   0033|       0002|000010005848|   BRL|     2793|  0058|-200.00|        |            |          0.00|             | 2020-01-03|2020-01-03|     1250| 2020-01-03|     0|           |           N|          1|  7887.69|        0033|       0002|      22|    8949|      M|      N|           S|       N|          D|            |         |   0.000000|   08|         N|            N|       N|       BGS1|            C4|     IV1|2020-01-03|12502299| 0.00| 0.00| 0.00|       0033|      0570|   DHC0570|         A|        IV1|2020-01-03 12:50:...|       600570|          NFN|                    |   2020-01-06|\n",
      "|   0033|       0002|000010008298|   BRL|    11709|  0070|-400.00|        |            |          0.00|             | 2020-01-03|2020-01-03|     1248| 2020-01-03|     0|           |           N|          1|   468.88|        0033|       0002|      22|    8949|      M|      N|           S|       N|          D|            |         |   0.000000|   06|         S|            N|       S|       BGT0|            BG|    &47Z|2020-01-03|12485808| 0.00| 0.00| 0.00|       0033|      0002|   C350002|         B|       &47Z|2020-01-03 12:48:...|     12485809|          TFN|ORESTES RIBEIRO J...|   2020-01-06|\n",
      "+-------+-----------+------------+------+---------+------+-------+--------+------------+--------------+-------------+-----------+----------+---------+-----------+------+-----------+------------+-----------+---------+------------+-----------+--------+--------+-------+-------+------------+--------+-----------+------------+---------+-----------+-----+----------+-------------+--------+-----------+--------------+--------+----------+--------+-----+-----+-----+-----------+----------+----------+----------+-----------+--------------------+-------------+-------------+--------------------+-------------+\n",
      "only showing top 2 rows\n",
      "\n"
     ]
    }
   ],
   "source": [
    "df.where((F.col(\"importe\")<10) | (F.col(\"importe\")>90)).show(2)"
   ]
  },
  {
   "cell_type": "markdown",
   "metadata": {},
   "source": [
    "Distinct\n",
    "```\n",
    "SELECT COUNT(DISTINCT(centro_alta, cuenta)) FROM df\n",
    "```"
   ]
  },
  {
   "cell_type": "code",
   "execution_count": 16,
   "metadata": {
    "ExecuteTime": {
     "end_time": "2020-02-12T14:18:54.361652Z",
     "start_time": "2020-02-12T14:18:46.800422Z"
    }
   },
   "outputs": [
    {
     "data": {
      "text/plain": [
       "14710"
      ]
     },
     "execution_count": 16,
     "metadata": {},
     "output_type": "execute_result"
    }
   ],
   "source": [
    "df.select(\"centro_alta\", \"cuenta\").distinct().count()"
   ]
  },
  {
   "cell_type": "markdown",
   "metadata": {},
   "source": [
    "Union"
   ]
  },
  {
   "cell_type": "code",
   "execution_count": 17,
   "metadata": {
    "ExecuteTime": {
     "end_time": "2020-02-12T14:18:54.434031Z",
     "start_time": "2020-02-12T14:18:54.364186Z"
    }
   },
   "outputs": [],
   "source": [
    "df_aux = spark.table(\"bg.bgdtpen\")\\\n",
    "        .filter(F.col(\"dat_ref_carga\") == \"2020-02-03\")\\\n",
    "        .filter(F.col(\"centro_alta\") == '0001')"
   ]
  },
  {
   "cell_type": "code",
   "execution_count": 18,
   "metadata": {
    "ExecuteTime": {
     "end_time": "2020-02-12T14:19:03.045430Z",
     "start_time": "2020-02-12T14:18:54.436412Z"
    }
   },
   "outputs": [
    {
     "data": {
      "text/plain": [
       "(51109, 121065)"
      ]
     },
     "execution_count": 18,
     "metadata": {},
     "output_type": "execute_result"
    }
   ],
   "source": [
    "df.count(), df_aux.count()"
   ]
  },
  {
   "cell_type": "code",
   "execution_count": 19,
   "metadata": {
    "ExecuteTime": {
     "end_time": "2020-02-12T14:19:03.074588Z",
     "start_time": "2020-02-12T14:19:03.047752Z"
    }
   },
   "outputs": [],
   "source": [
    "union = df.union(df_aux)"
   ]
  },
  {
   "cell_type": "code",
   "execution_count": 20,
   "metadata": {
    "ExecuteTime": {
     "end_time": "2020-02-12T14:19:11.284488Z",
     "start_time": "2020-02-12T14:19:03.078604Z"
    }
   },
   "outputs": [
    {
     "data": {
      "text/plain": [
       "172174"
      ]
     },
     "execution_count": 20,
     "metadata": {},
     "output_type": "execute_result"
    }
   ],
   "source": [
    "union.count()"
   ]
  },
  {
   "cell_type": "markdown",
   "metadata": {},
   "source": [
    "## Ordenação"
   ]
  },
  {
   "cell_type": "markdown",
   "metadata": {},
   "source": [
    "Ordenar as linhas"
   ]
  },
  {
   "cell_type": "code",
   "execution_count": 21,
   "metadata": {
    "ExecuteTime": {
     "end_time": "2020-02-12T14:19:52.891937Z",
     "start_time": "2020-02-12T14:19:11.287244Z"
    }
   },
   "outputs": [
    {
     "name": "stdout",
     "output_type": "stream",
     "text": [
      "+-------+-----------+------------+------+---------+------+----------+--------+------------+--------------+-------------+-----------+----------+---------+-----------+------+-----------+------------+-----------+----------+------------+-----------+--------+--------+-------+-------+------------+--------+-----------+------------+---------+-----------+-----+----------+-------------+--------+-----------+--------------+--------+----------+--------+-----+-----+-----+-----------+----------+----------+----------+-----------+--------------------+-------------+-------------+--------------------+-------------+\n",
      "|entidad|centro_alta|      cuenta|divisa|numer_mov|codigo|   importe|concepto|cod_impuesto|impor_impuesto|cpto_impuesto|fecha_conta|fecha_oper|hora_oper|fecha_valor|cheque|ref_interna|ind_desdobla|ind_observa| saldo_aut|entidad_cont|centro_cont|producto|subprodu|ind_aom|ind_act|ind_anulable|ind_anul|ind_car_abo|ind_giro_dep|codigo_ur|tipo_cambio|canal|ind_contab|ind_impto_mir|ind_ppal|transaccion|cod_aplicacion|term_nio| fecha_nio|hora_nio|mov30|mov60|mov90|entidad_umo|centro_umo|userid_umo|cajero_umo|netname_umo|          timest_umo|discriminante|div_contraria|   tx_comp_hist_lanc|dat_ref_carga|\n",
      "+-------+-----------+------------+------+---------+------+----------+--------+------------+--------------+-------------+-----------+----------+---------+-----------+------+-----------+------------+-----------+----------+------------+-----------+--------+--------+-------+-------+------------+--------+-----------+------------+---------+-----------+-----+----------+-------------+--------+-----------+--------------+--------+----------+--------+-----+-----+-----+-----------+----------+----------+----------+-----------+--------------------+-------------+-------------+--------------------+-------------+\n",
      "|   0033|       0002|000130051073|   BRL|   121192|  0904|-580000.00|        |            |          0.00|             | 2020-01-02|2020-01-02|     0200| 2020-01-02|     0|       9999|           N|          1|-496101.30|        0033|       0002|      22|    8400|      A|      N|           S|       N|          D|            |         |   0.000000|   YL|         N|            N|       S|           |            YL|    0020|2020-01-03|78737605| 0.00| 0.00| 0.00|       0033|      0002|  YL4C981F|         N|   YM4C981F|2020-01-03 02:00:...|       030102|          NJN|     0002.4900093568|   2020-01-06|\n",
      "|   0033|       0002|000500000065|   BRL|    84483|  0824|-388217.11|        |            |          0.00|             | 2020-01-03|2020-01-06|     0224| 2020-01-03|     0|       9990|           N|          3|1318933.48|        0033|       0002|      22|    8130|      A|      N|           S|       N|          D|            |         |   0.000000|   99|         N|            N|       S|           |            MX|    MXC0|2020-01-03|02232807| 0.00| 0.00| 0.00|       0033|      0002|  DHE0002 |         N|   MX2J0B40|2020-01-04 02:24:...|             |          NJN|                    |   2020-01-06|\n",
      "|   0033|       0002|000130050003|   BRL|    10367|  0836|-350000.00|        |            |          0.00|             | 2020-01-03|2020-01-03|     1609| 2020-01-03|     0|           |           N|          2| -12135.20|        0033|       0002|      22|    1304|      M|      N|           S|       N|          D|            |         |   0.000000|   06|         N|            N|       N|       PZA1|            PZ|     ADZ|2020-01-03|16090018| 0.00| 0.00| 0.00|       0033|      0002|   DHN0002|         A|        ADZ|2020-01-03 16:09:...|   0000000000|          NJN|VM ADMINISTRACAO ...|   2020-01-06|\n",
      "|   0033|       0002|000130065423|   BRL|    24905|  3625|-269697.61|        |            |          0.00|             | 2020-01-03|2020-01-06|     0219| 2020-01-03|     0|           |           N|          3| 272560.61|        0033|       0002|      22|    8518|      M|      N|           S|       N|          D|            |         |   0.000000|   99|         N|            N|       S|           |            BP|    4B8X|2020-01-03|02191366| 0.00| 0.00| 0.00|       0033|      0002|  BG4CM402|         B|   BPBP4B01|2020-01-04 02:19:...|             |          NJN|                    |   2020-01-06|\n",
      "|   0033|       0002|000130063177|   BRL|     2600|  3625|-243540.79|        |            |          0.00|             | 2020-01-02|2020-01-03|     0127| 2020-01-02|     0|           |           N|          3| 243540.79|        0033|       0002|      22|    8518|      M|      N|           S|       N|          D|            |         |   0.000000|   99|         N|            N|       S|           |            BP|    2B0D|2020-01-03|01274867| 0.00| 0.00| 0.00|       0033|      0002|  BG4CM500|         B|   BPBP2B01|2020-01-04 01:27:...|             |          NJN|                    |   2020-01-06|\n",
      "+-------+-----------+------------+------+---------+------+----------+--------+------------+--------------+-------------+-----------+----------+---------+-----------+------+-----------+------------+-----------+----------+------------+-----------+--------+--------+-------+-------+------------+--------+-----------+------------+---------+-----------+-----+----------+-------------+--------+-----------+--------------+--------+----------+--------+-----+-----+-----+-----------+----------+----------+----------+-----------+--------------------+-------------+-------------+--------------------+-------------+\n",
      "only showing top 5 rows\n",
      "\n"
     ]
    }
   ],
   "source": [
    "df.sort(\"importe\").show(5)"
   ]
  },
  {
   "cell_type": "code",
   "execution_count": 22,
   "metadata": {
    "ExecuteTime": {
     "end_time": "2020-02-12T14:20:33.452577Z",
     "start_time": "2020-02-12T14:19:52.894246Z"
    }
   },
   "outputs": [
    {
     "name": "stdout",
     "output_type": "stream",
     "text": [
      "+-------+-----------+------------+------+---------+------+-------+--------+------------+--------------+-------------+-----------+----------+---------+-----------+------+-----------+------------+-----------+---------+------------+-----------+--------+--------+-------+-------+------------+--------+-----------+------------+---------+-----------+-----+----------+-------------+--------+-----------+--------------+--------+----------+--------+-----+-----+-----+-----------+----------+----------+----------+-----------+--------------------+-------------+-------------+--------------------+-------------+\n",
      "|entidad|centro_alta|      cuenta|divisa|numer_mov|codigo|importe|concepto|cod_impuesto|impor_impuesto|cpto_impuesto|fecha_conta|fecha_oper|hora_oper|fecha_valor|cheque|ref_interna|ind_desdobla|ind_observa|saldo_aut|entidad_cont|centro_cont|producto|subprodu|ind_aom|ind_act|ind_anulable|ind_anul|ind_car_abo|ind_giro_dep|codigo_ur|tipo_cambio|canal|ind_contab|ind_impto_mir|ind_ppal|transaccion|cod_aplicacion|term_nio| fecha_nio|hora_nio|mov30|mov60|mov90|entidad_umo|centro_umo|userid_umo|cajero_umo|netname_umo|          timest_umo|discriminante|div_contraria|   tx_comp_hist_lanc|dat_ref_carga|\n",
      "+-------+-----------+------------+------+---------+------+-------+--------+------------+--------------+-------------+-----------+----------+---------+-----------+------+-----------+------------+-----------+---------+------------+-----------+--------+--------+-------+-------+------------+--------+-----------+------------+---------+-----------+-----+----------+-------------+--------+-----------+--------------+--------+----------+--------+-----+-----+-----+-----------+----------+----------+----------+-----------+--------------------+-------------+-------------+--------------------+-------------+\n",
      "|   0033|       0002|000010005848|   BRL|     2793|  0058|-200.00|        |            |          0.00|             | 2020-01-03|2020-01-03|     1250| 2020-01-03|     0|           |           N|          1|  7887.69|        0033|       0002|      22|    8949|      M|      N|           S|       N|          D|            |         |   0.000000|   08|         N|            N|       N|       BGS1|            C4|     IV1|2020-01-03|12502299| 0.00| 0.00| 0.00|       0033|      0570|   DHC0570|         A|        IV1|2020-01-03 12:50:...|       600570|          NFN|                    |   2020-01-06|\n",
      "|   0033|       0002|000010008298|   BRL|    11709|  0070|-400.00|        |            |          0.00|             | 2020-01-03|2020-01-03|     1248| 2020-01-03|     0|           |           N|          1|   468.88|        0033|       0002|      22|    8949|      M|      N|           S|       N|          D|            |         |   0.000000|   06|         S|            N|       S|       BGT0|            BG|    &47Z|2020-01-03|12485808| 0.00| 0.00| 0.00|       0033|      0002|   C350002|         B|       &47Z|2020-01-03 12:48:...|     12485809|          TFN|ORESTES RIBEIRO J...|   2020-01-06|\n",
      "|   0033|       0002|000010008298|   BRL|    11710|  0086|-200.00|        |            |          0.00|             | 2020-01-03|2020-01-03|     1302| 2020-01-03|     0|           |           N|          1|    68.88|        0033|       0002|      22|    8949|      M|      N|           S|       N|          D|            |         |   0.000000|   15|         N|            N|       N|       B501|            MP|     OO9|2020-01-03|13023522| 0.00| 0.00| 0.00|       0033|      7097|   MQPAMPA|         A|        OO9|2020-01-03 13:02:...|   3160210444|          NFN|                    |   2020-01-06|\n",
      "|   0033|       0002|000010008717|   BRL|     9076|  2988|-404.80|        |            |          0.00|             | 2020-01-06|2020-01-06|     0302| 2020-01-06|     0|           |           N|          1|  4252.08|        0033|       0002|      22|    8949|      M|      N|           S|       N|          D|            |         |   0.000000|   06|         N|            N|       N|       VTIB|            VT|    ?76Y|2020-01-04|03025987| 0.00| 0.00| 0.00|       0033|      0002|    MQIBFP|         A|       ?76Y|2020-01-04 03:02:...|             |          NFN|NATURA COSMETICOS SA|   2020-01-06|\n",
      "|   0033|       0002|000010008717|   BRL|     9077|  2988|-285.76|        |            |          0.00|             | 2020-01-06|2020-01-06|     0309| 2020-01-06|     0|           |           N|          1|  3847.28|        0033|       0002|      22|    8949|      M|      N|           S|       N|          D|            |         |   0.000000|   06|         N|            N|       N|       VTIB|            VT|    ?72W|2020-01-04|03091171| 0.00| 0.00| 0.00|       0033|      0002|    MQIBFP|         A|       ?72W|2020-01-04 03:09:...|             |          NFN|NATURA COSMETICOS SA|   2020-01-06|\n",
      "+-------+-----------+------------+------+---------+------+-------+--------+------------+--------------+-------------+-----------+----------+---------+-----------+------+-----------+------------+-----------+---------+------------+-----------+--------+--------+-------+-------+------------+--------+-----------+------------+---------+-----------+-----+----------+-------------+--------+-----------+--------------+--------+----------+--------+-----+-----+-----+-----------+----------+----------+----------+-----------+--------------------+-------------+-------------+--------------------+-------------+\n",
      "only showing top 5 rows\n",
      "\n"
     ]
    }
   ],
   "source": [
    "df.orderBy(\"centro_alta\", \"cuenta\").show(5)"
   ]
  },
  {
   "cell_type": "code",
   "execution_count": 23,
   "metadata": {
    "ExecuteTime": {
     "end_time": "2020-02-12T14:21:32.849033Z",
     "start_time": "2020-02-12T14:20:33.455188Z"
    }
   },
   "outputs": [
    {
     "name": "stdout",
     "output_type": "stream",
     "text": [
      "+-------+-----------+------------+------+---------+------+-------+--------+------------+--------------+-------------+-----------+----------+---------+-----------+------+-----------+------------+-----------+---------+------------+-----------+--------+--------+-------+-------+------------+--------+-----------+------------+---------+-----------+-----+----------+-------------+--------+-----------+--------------+--------+----------+--------+-----+-----+-----+-----------+----------+----------+----------+-----------+--------------------+-------------+-------------+--------------------+-------------+\n",
      "|entidad|centro_alta|      cuenta|divisa|numer_mov|codigo|importe|concepto|cod_impuesto|impor_impuesto|cpto_impuesto|fecha_conta|fecha_oper|hora_oper|fecha_valor|cheque|ref_interna|ind_desdobla|ind_observa|saldo_aut|entidad_cont|centro_cont|producto|subprodu|ind_aom|ind_act|ind_anulable|ind_anul|ind_car_abo|ind_giro_dep|codigo_ur|tipo_cambio|canal|ind_contab|ind_impto_mir|ind_ppal|transaccion|cod_aplicacion|term_nio| fecha_nio|hora_nio|mov30|mov60|mov90|entidad_umo|centro_umo|userid_umo|cajero_umo|netname_umo|          timest_umo|discriminante|div_contraria|   tx_comp_hist_lanc|dat_ref_carga|\n",
      "+-------+-----------+------------+------+---------+------+-------+--------+------------+--------------+-------------+-----------+----------+---------+-----------+------+-----------+------------+-----------+---------+------------+-----------+--------+--------+-------+-------+------------+--------+-----------+------------+---------+-----------+-----+----------+-------------+--------+-----------+--------------+--------+----------+--------+-----+-----+-----+-----------+----------+----------+----------+-----------+--------------------+-------------+-------------+--------------------+-------------+\n",
      "|   0033|       0002|000010005848|   BRL|     2793|  0058|-200.00|        |            |          0.00|             | 2020-01-03|2020-01-03|     1250| 2020-01-03|     0|           |           N|          1|  7887.69|        0033|       0002|      22|    8949|      M|      N|           S|       N|          D|            |         |   0.000000|   08|         N|            N|       N|       BGS1|            C4|     IV1|2020-01-03|12502299| 0.00| 0.00| 0.00|       0033|      0570|   DHC0570|         A|        IV1|2020-01-03 12:50:...|       600570|          NFN|                    |   2020-01-06|\n",
      "|   0033|       0002|000010008298|   BRL|    11709|  0070|-400.00|        |            |          0.00|             | 2020-01-03|2020-01-03|     1248| 2020-01-03|     0|           |           N|          1|   468.88|        0033|       0002|      22|    8949|      M|      N|           S|       N|          D|            |         |   0.000000|   06|         S|            N|       S|       BGT0|            BG|    &47Z|2020-01-03|12485808| 0.00| 0.00| 0.00|       0033|      0002|   C350002|         B|       &47Z|2020-01-03 12:48:...|     12485809|          TFN|ORESTES RIBEIRO J...|   2020-01-06|\n",
      "|   0033|       0002|000010008298|   BRL|    11710|  0086|-200.00|        |            |          0.00|             | 2020-01-03|2020-01-03|     1302| 2020-01-03|     0|           |           N|          1|    68.88|        0033|       0002|      22|    8949|      M|      N|           S|       N|          D|            |         |   0.000000|   15|         N|            N|       N|       B501|            MP|     OO9|2020-01-03|13023522| 0.00| 0.00| 0.00|       0033|      7097|   MQPAMPA|         A|        OO9|2020-01-03 13:02:...|   3160210444|          NFN|                    |   2020-01-06|\n",
      "|   0033|       0002|000010008717|   BRL|     9076|  2988|-404.80|        |            |          0.00|             | 2020-01-06|2020-01-06|     0302| 2020-01-06|     0|           |           N|          1|  4252.08|        0033|       0002|      22|    8949|      M|      N|           S|       N|          D|            |         |   0.000000|   06|         N|            N|       N|       VTIB|            VT|    ?76Y|2020-01-04|03025987| 0.00| 0.00| 0.00|       0033|      0002|    MQIBFP|         A|       ?76Y|2020-01-04 03:02:...|             |          NFN|NATURA COSMETICOS SA|   2020-01-06|\n",
      "|   0033|       0002|000010008717|   BRL|     9077|  2988|-285.76|        |            |          0.00|             | 2020-01-06|2020-01-06|     0309| 2020-01-06|     0|           |           N|          1|  3847.28|        0033|       0002|      22|    8949|      M|      N|           S|       N|          D|            |         |   0.000000|   06|         N|            N|       N|       VTIB|            VT|    ?72W|2020-01-04|03091171| 0.00| 0.00| 0.00|       0033|      0002|    MQIBFP|         A|       ?72W|2020-01-04 03:09:...|             |          NFN|NATURA COSMETICOS SA|   2020-01-06|\n",
      "+-------+-----------+------------+------+---------+------+-------+--------+------------+--------------+-------------+-----------+----------+---------+-----------+------+-----------+------------+-----------+---------+------------+-----------+--------+--------+-------+-------+------------+--------+-----------+------------+---------+-----------+-----+----------+-------------+--------+-----------+--------------+--------+----------+--------+-----+-----+-----+-----------+----------+----------+----------+-----------+--------------------+-------------+-------------+--------------------+-------------+\n",
      "only showing top 5 rows\n",
      "\n"
     ]
    }
   ],
   "source": [
    "df.orderBy(F.col(\"centro_alta\"), F.col(\"cuenta\")).show(5)"
   ]
  },
  {
   "cell_type": "markdown",
   "metadata": {},
   "source": [
    "## Criar campos calculados"
   ]
  },
  {
   "cell_type": "code",
   "execution_count": 24,
   "metadata": {
    "ExecuteTime": {
     "end_time": "2020-02-12T14:21:32.903191Z",
     "start_time": "2020-02-12T14:21:32.851544Z"
    }
   },
   "outputs": [],
   "source": [
    "fabricatedQuantity = F.pow(F.col(\"importe\") * F.col(\"saldo_aut\"), 2) + 5"
   ]
  },
  {
   "cell_type": "code",
   "execution_count": 25,
   "metadata": {
    "ExecuteTime": {
     "end_time": "2020-02-12T14:22:48.112081Z",
     "start_time": "2020-02-12T14:21:32.905695Z"
    }
   },
   "outputs": [
    {
     "name": "stdout",
     "output_type": "stream",
     "text": [
      "+------------+-----------------+\n",
      "|      cuenta|     new_quantity|\n",
      "+------------+-----------------+\n",
      "|000010005848|2.488626141449E12|\n",
      "|000010008298|  3.5175752709E10|\n",
      "+------------+-----------------+\n",
      "only showing top 2 rows\n",
      "\n"
     ]
    }
   ],
   "source": [
    "df.select(F.expr(\"cuenta\"), \n",
    "          fabricatedQuantity.alias(\"new_quantity\")).show(2)"
   ]
  },
  {
   "cell_type": "markdown",
   "metadata": {},
   "source": [
    "## Tranformação de dados"
   ]
  },
  {
   "cell_type": "markdown",
   "metadata": {},
   "source": [
    "Coalesce"
   ]
  },
  {
   "cell_type": "code",
   "execution_count": 26,
   "metadata": {
    "ExecuteTime": {
     "end_time": "2020-02-12T14:22:55.291302Z",
     "start_time": "2020-02-12T14:22:48.114523Z"
    },
    "scrolled": true
   },
   "outputs": [
    {
     "name": "stdout",
     "output_type": "stream",
     "text": [
      "+-------+-------+------------+-------------------------------+\n",
      "|colunaX|importe|      cuenta|coalesce(NULL, importe, cuenta)|\n",
      "+-------+-------+------------+-------------------------------+\n",
      "|   null|-200.00|000010005848|                        -200.00|\n",
      "|   null|-400.00|000010008298|                        -400.00|\n",
      "|   null|-200.00|000010008298|                        -200.00|\n",
      "|   null|-404.80|000010008717|                        -404.80|\n",
      "|   null|-285.76|000010008717|                        -285.76|\n",
      "+-------+-------+------------+-------------------------------+\n",
      "\n"
     ]
    }
   ],
   "source": [
    "df_null = df.select(F.lit(None).alias(\"colunaX\").cast(\"integer\"), \n",
    "          F.col(\"importe\"), \n",
    "          F.col(\"cuenta\"), \n",
    "          F.coalesce(F.lit(None), F.col(\"importe\"), F.col(\"cuenta\")))\\\n",
    "        .limit(5)\n",
    "df_null.show()"
   ]
  },
  {
   "cell_type": "markdown",
   "metadata": {},
   "source": [
    "Arredondar dados"
   ]
  },
  {
   "cell_type": "code",
   "execution_count": 27,
   "metadata": {
    "ExecuteTime": {
     "end_time": "2020-02-12T14:23:06.426749Z",
     "start_time": "2020-02-12T14:22:55.293922Z"
    }
   },
   "outputs": [
    {
     "name": "stdout",
     "output_type": "stream",
     "text": [
      "+-------------+--------------+\n",
      "|round(2.5, 0)|bround(2.5, 0)|\n",
      "+-------------+--------------+\n",
      "|          3.0|           2.0|\n",
      "|          3.0|           2.0|\n",
      "+-------------+--------------+\n",
      "only showing top 2 rows\n",
      "\n"
     ]
    }
   ],
   "source": [
    "df.select(F.round(F.lit(\"2.5\")), F.bround(F.lit(\"2.5\"))).show(2)"
   ]
  },
  {
   "cell_type": "markdown",
   "metadata": {},
   "source": [
    "Converter string to date "
   ]
  },
  {
   "cell_type": "code",
   "execution_count": 28,
   "metadata": {
    "ExecuteTime": {
     "end_time": "2020-02-12T14:23:16.637835Z",
     "start_time": "2020-02-12T14:23:06.429313Z"
    }
   },
   "outputs": [
    {
     "name": "stdout",
     "output_type": "stream",
     "text": [
      "+---------------+\n",
      "|to_date(`date`)|\n",
      "+---------------+\n",
      "|     2019-01-01|\n",
      "+---------------+\n",
      "only showing top 1 row\n",
      "\n"
     ]
    }
   ],
   "source": [
    "df.withColumn(\"date\", F.lit(\"2019-01-01\"))\\\n",
    "    .select(F.to_date(F.col(\"date\"))).show(1)"
   ]
  },
  {
   "cell_type": "markdown",
   "metadata": {},
   "source": [
    "## Datas"
   ]
  },
  {
   "cell_type": "markdown",
   "metadata": {},
   "source": [
    "Adicionando e subtraindo dias"
   ]
  },
  {
   "cell_type": "code",
   "execution_count": 29,
   "metadata": {
    "ExecuteTime": {
     "end_time": "2020-02-12T14:23:29.947236Z",
     "start_time": "2020-02-12T14:23:16.640635Z"
    }
   },
   "outputs": [
    {
     "name": "stdout",
     "output_type": "stream",
     "text": [
      "+-----------+------------------------+------------------------+\n",
      "|fecha_conta|date_sub(fecha_conta, 5)|date_add(fecha_conta, 5)|\n",
      "+-----------+------------------------+------------------------+\n",
      "| 2020-01-03|              2019-12-29|              2020-01-08|\n",
      "+-----------+------------------------+------------------------+\n",
      "only showing top 1 row\n",
      "\n"
     ]
    }
   ],
   "source": [
    "df.select(F.col(\"fecha_conta\"),\n",
    "          F.date_sub(F.col(\"fecha_conta\"), 5), \n",
    "          F.date_add(F.col(\"fecha_conta\"), 5)).show(1)"
   ]
  },
  {
   "cell_type": "markdown",
   "metadata": {},
   "source": [
    "Diferença de dias entre datas"
   ]
  },
  {
   "cell_type": "code",
   "execution_count": 30,
   "metadata": {
    "ExecuteTime": {
     "end_time": "2020-02-12T14:23:42.344241Z",
     "start_time": "2020-02-12T14:23:29.949324Z"
    }
   },
   "outputs": [
    {
     "name": "stdout",
     "output_type": "stream",
     "text": [
      "+-------------------------------+\n",
      "|datediff(fecha_conta, week_ago)|\n",
      "+-------------------------------+\n",
      "|                              7|\n",
      "+-------------------------------+\n",
      "only showing top 1 row\n",
      "\n"
     ]
    }
   ],
   "source": [
    "df.withColumn(\"week_ago\", F.date_sub(F.col(\"fecha_conta\"), 7))\\\n",
    "    .select(F.datediff(F.col(\"fecha_conta\"), F.col(\"week_ago\"))).show(1)"
   ]
  },
  {
   "cell_type": "markdown",
   "metadata": {
    "ExecuteTime": {
     "end_time": "2020-02-12T12:45:20.381153Z",
     "start_time": "2020-02-12T12:45:20.375559Z"
    }
   },
   "source": [
    "Diferença de meses entre datas"
   ]
  },
  {
   "cell_type": "code",
   "execution_count": 31,
   "metadata": {
    "ExecuteTime": {
     "end_time": "2020-02-12T14:23:53.088773Z",
     "start_time": "2020-02-12T14:23:42.346607Z"
    }
   },
   "outputs": [
    {
     "name": "stdout",
     "output_type": "stream",
     "text": [
      "+--------------------------------+\n",
      "|months_between(end, start, true)|\n",
      "+--------------------------------+\n",
      "|                            16.0|\n",
      "+--------------------------------+\n",
      "only showing top 1 row\n",
      "\n"
     ]
    }
   ],
   "source": [
    "df.select(\n",
    "    F.to_date(lit(\"2016-01-01\")).alias(\"start\"),\n",
    "    F.to_date(lit(\"2017-05-01\")).alias(\"end\"))\\\n",
    ".select(F.months_between(F.col(\"end\"), F.col(\"start\"))).show(1)"
   ]
  },
  {
   "cell_type": "markdown",
   "metadata": {},
   "source": [
    "## Nulos"
   ]
  },
  {
   "cell_type": "markdown",
   "metadata": {},
   "source": [
    "Tirando valores nulos"
   ]
  },
  {
   "cell_type": "code",
   "execution_count": 32,
   "metadata": {
    "ExecuteTime": {
     "end_time": "2020-02-12T14:23:59.210279Z",
     "start_time": "2020-02-12T14:23:53.090989Z"
    }
   },
   "outputs": [
    {
     "name": "stdout",
     "output_type": "stream",
     "text": [
      "+-------+-------+------------+-------------------------------+\n",
      "|colunaX|importe|      cuenta|coalesce(NULL, importe, cuenta)|\n",
      "+-------+-------+------------+-------------------------------+\n",
      "|   null|-200.00|000010005848|                        -200.00|\n",
      "|   null|-400.00|000010008298|                        -400.00|\n",
      "|   null|-200.00|000010008298|                        -200.00|\n",
      "|   null|-404.80|000010008717|                        -404.80|\n",
      "|   null|-285.76|000010008717|                        -285.76|\n",
      "+-------+-------+------------+-------------------------------+\n",
      "\n"
     ]
    }
   ],
   "source": [
    "df_null.na.drop(\"all\", subset=[\"importe\", \"cuenta\"]).show()"
   ]
  },
  {
   "cell_type": "code",
   "execution_count": 33,
   "metadata": {
    "ExecuteTime": {
     "end_time": "2020-02-12T14:23:59.397090Z",
     "start_time": "2020-02-12T14:23:59.212772Z"
    }
   },
   "outputs": [
    {
     "name": "stdout",
     "output_type": "stream",
     "text": [
      "+-------+-------+------+-------------------------------+\n",
      "|colunaX|importe|cuenta|coalesce(NULL, importe, cuenta)|\n",
      "+-------+-------+------+-------------------------------+\n",
      "+-------+-------+------+-------------------------------+\n",
      "\n"
     ]
    }
   ],
   "source": [
    "df_null.na.drop(\"all\", subset=[\"colunaX\"]).show()"
   ]
  },
  {
   "cell_type": "markdown",
   "metadata": {},
   "source": [
    "Preenchendo nulos"
   ]
  },
  {
   "cell_type": "code",
   "execution_count": 34,
   "metadata": {
    "ExecuteTime": {
     "end_time": "2020-02-12T14:24:05.944998Z",
     "start_time": "2020-02-12T14:23:59.399587Z"
    }
   },
   "outputs": [
    {
     "name": "stdout",
     "output_type": "stream",
     "text": [
      "+-------+-------+------------+-------------------------------+\n",
      "|colunaX|importe|      cuenta|coalesce(NULL, importe, cuenta)|\n",
      "+-------+-------+------------+-------------------------------+\n",
      "|      0|-200.00|000010005848|                        -200.00|\n",
      "|      0|-400.00|000010008298|                        -400.00|\n",
      "|      0|-200.00|000010008298|                        -200.00|\n",
      "|      0|-404.80|000010008717|                        -404.80|\n",
      "|      0|-285.76|000010008717|                        -285.76|\n",
      "+-------+-------+------------+-------------------------------+\n",
      "\n"
     ]
    }
   ],
   "source": [
    "df_null.na.fill(0, subset=[\"colunaX\"]).show()"
   ]
  },
  {
   "cell_type": "markdown",
   "metadata": {},
   "source": [
    "## Agrupamentos"
   ]
  },
  {
   "cell_type": "markdown",
   "metadata": {},
   "source": [
    "```\n",
    "SELECT cuenta, importe, count(*)\n",
    "FROM df\n",
    "GROUP BY cuenta, importe\n",
    "```"
   ]
  },
  {
   "cell_type": "code",
   "execution_count": 35,
   "metadata": {
    "ExecuteTime": {
     "end_time": "2020-02-12T14:25:16.903363Z",
     "start_time": "2020-02-12T14:24:05.947338Z"
    },
    "scrolled": true
   },
   "outputs": [
    {
     "name": "stdout",
     "output_type": "stream",
     "text": [
      "+------------+-------+-----+\n",
      "|      cuenta|importe|count|\n",
      "+------------+-------+-----+\n",
      "|000010044702|  -0.07|    1|\n",
      "|000010128664| -43.68|    1|\n",
      "|000010141139| -50.00|    1|\n",
      "|000010167793|-324.19|    1|\n",
      "|000010171260| -29.50|    1|\n",
      "|000010185988|  -8.85|    1|\n",
      "|000010185995|-110.00|    1|\n",
      "|000010203424| -35.00|    1|\n",
      "|000010210097| -10.00|    1|\n",
      "|000010223020| -24.00|    1|\n",
      "|000010242797| -65.50|    1|\n",
      "|000010264986| -22.00|    3|\n",
      "|000010268117|-486.69|    1|\n",
      "|000010270833|-263.45|    1|\n",
      "|000010274851|  -6.00|    1|\n",
      "|000010281589|  -0.14|    1|\n",
      "|000010286759|  -0.18|    1|\n",
      "|000010292871|  -1.24|    1|\n",
      "|000010296291| -50.00|    1|\n",
      "|000010299483|  -4.96|    1|\n",
      "+------------+-------+-----+\n",
      "only showing top 20 rows\n",
      "\n"
     ]
    }
   ],
   "source": [
    "df.groupBy(\"cuenta\", \"importe\").count().show()"
   ]
  },
  {
   "cell_type": "markdown",
   "metadata": {
    "ExecuteTime": {
     "end_time": "2020-02-12T13:08:52.236117Z",
     "start_time": "2020-02-12T13:08:52.230892Z"
    }
   },
   "source": [
    "```\n",
    "SELECT cuenta, \n",
    "       avg(importe) as importe_medio, \n",
    "       stdev(saldo_aut) as saldo_std, \n",
    "       count(*) as count\n",
    "FROM df\n",
    "GROUP BY cuenta\n",
    "```"
   ]
  },
  {
   "cell_type": "code",
   "execution_count": 36,
   "metadata": {
    "ExecuteTime": {
     "end_time": "2020-02-12T14:26:08.376600Z",
     "start_time": "2020-02-12T14:25:16.906032Z"
    },
    "scrolled": true
   },
   "outputs": [
    {
     "name": "stdout",
     "output_type": "stream",
     "text": [
      "+------------+-------------+------------------+-----+\n",
      "|      cuenta|importe_medio|         saldo_std|count|\n",
      "+------------+-------------+------------------+-----+\n",
      "|000010026902|   -47.600000|               NaN|    1|\n",
      "|000010038680|   -45.877500|61.970468437259115|    4|\n",
      "|000010051014| -1333.996667|1.1159002344893303|    3|\n",
      "|000010114427|    -1.855000|0.6293250352560177|    2|\n",
      "|000010155699|   -38.021250| 92.33271185539488|    8|\n",
      "|000010168127|    24.825000|15.096729778332726|    2|\n",
      "|000010186006|  -670.000000|14.142135623730951|    2|\n",
      "|000010234484|   -91.431250|284.97924676318854|    8|\n",
      "|000010243774|  -196.960476| 1324.196727159165|   21|\n",
      "|000010256219|  -186.102857|415.20596112910357|    7|\n",
      "|000010441714|   -98.202000|122.97868994260755|    5|\n",
      "|000010442849|    87.500000|56.568542494923804|    2|\n",
      "|000010515309|   -23.642000| 59.92607469021963|   10|\n",
      "|000010519633|    -6.367600|58.502390825788694|   25|\n",
      "|000010615980|   -99.900000|               NaN|    1|\n",
      "|000010621167| -2978.880000|               NaN|    1|\n",
      "|000010630873|  -166.448000|173.19227725276886|    5|\n",
      "|000010631685|  -175.813333| 406.7865120059907|    6|\n",
      "|000010645279|   -60.000000|               NaN|    1|\n",
      "|000010651449|  -179.351667|30.439023637429692|    6|\n",
      "+------------+-------------+------------------+-----+\n",
      "only showing top 20 rows\n",
      "\n"
     ]
    }
   ],
   "source": [
    "df.groupBy(\"cuenta\")\\\n",
    "    .agg(F.expr(\"avg(importe)\").alias(\"importe_medio\"),\n",
    "         F.expr(\"stddev(saldo_aut)\").alias(\"saldo_std\"),\n",
    "         F.expr(\"count(*)\").alias(\"count\")\n",
    "    )\\\n",
    ".show()"
   ]
  },
  {
   "cell_type": "markdown",
   "metadata": {},
   "source": [
    "## Joins"
   ]
  },
  {
   "cell_type": "code",
   "execution_count": 37,
   "metadata": {
    "ExecuteTime": {
     "end_time": "2020-02-12T14:26:08.494239Z",
     "start_time": "2020-02-12T14:26:08.379195Z"
    }
   },
   "outputs": [],
   "source": [
    "df_aux = spark.table(\"bg.bgdtcoo\")\\\n",
    "            .filter(F.col(\"dat_ref_carga\")=='2020-01-06')"
   ]
  },
  {
   "cell_type": "markdown",
   "metadata": {},
   "source": [
    "```\n",
    "SELECT a.*, b.alfa_chica, b.alfa_grande \n",
    "FROM bg.bgdtpen a\n",
    "INNER JOIN bg.bgdtcoo b \n",
    "    ON a.codigo=b.codigo\n",
    "```"
   ]
  },
  {
   "cell_type": "code",
   "execution_count": 38,
   "metadata": {
    "ExecuteTime": {
     "end_time": "2020-02-12T14:26:08.556225Z",
     "start_time": "2020-02-12T14:26:08.496702Z"
    }
   },
   "outputs": [],
   "source": [
    "join = df.alias(\"a\").join(df_aux.alias(\"b\"), \n",
    "                          on=\"codigo\",\n",
    "                          how=\"inner\")\\\n",
    "       .select(\"a.*\", F.col(\"b.alfa_chica\"), F.col(\"alfa_grande\"))"
   ]
  },
  {
   "cell_type": "code",
   "execution_count": 39,
   "metadata": {
    "ExecuteTime": {
     "end_time": "2020-02-12T14:26:15.339684Z",
     "start_time": "2020-02-12T14:26:08.558663Z"
    }
   },
   "outputs": [
    {
     "name": "stdout",
     "output_type": "stream",
     "text": [
      "+------+--------------------+\n",
      "|codigo|         alfa_grande|\n",
      "+------+--------------------+\n",
      "|  2162|PAGAMENTO DE CARN...|\n",
      "+------+--------------------+\n",
      "only showing top 1 row\n",
      "\n"
     ]
    }
   ],
   "source": [
    "join.select(\"codigo\", \"alfa_grande\").show(1)"
   ]
  },
  {
   "cell_type": "markdown",
   "metadata": {},
   "source": [
    "Uma vez que tenho dados sumarizados, posso passar para dataframe pandas"
   ]
  },
  {
   "cell_type": "code",
   "execution_count": 41,
   "metadata": {
    "ExecuteTime": {
     "end_time": "2020-02-12T14:27:28.510186Z",
     "start_time": "2020-02-12T14:27:19.803883Z"
    }
   },
   "outputs": [],
   "source": [
    "df_pandas = join.groupby(\"alfa_grande\").count().toPandas()"
   ]
  },
  {
   "cell_type": "code",
   "execution_count": 42,
   "metadata": {
    "ExecuteTime": {
     "end_time": "2020-02-12T14:27:28.524784Z",
     "start_time": "2020-02-12T14:27:28.512842Z"
    }
   },
   "outputs": [
    {
     "data": {
      "text/html": [
       "<div>\n",
       "<style scoped>\n",
       "    .dataframe tbody tr th:only-of-type {\n",
       "        vertical-align: middle;\n",
       "    }\n",
       "\n",
       "    .dataframe tbody tr th {\n",
       "        vertical-align: top;\n",
       "    }\n",
       "\n",
       "    .dataframe thead th {\n",
       "        text-align: right;\n",
       "    }\n",
       "</style>\n",
       "<table border=\"1\" class=\"dataframe\">\n",
       "  <thead>\n",
       "    <tr style=\"text-align: right;\">\n",
       "      <th></th>\n",
       "      <th>alfa_grande</th>\n",
       "      <th>count</th>\n",
       "    </tr>\n",
       "  </thead>\n",
       "  <tbody>\n",
       "    <tr>\n",
       "      <th>0</th>\n",
       "      <td>ESTORNO DE SEGURO</td>\n",
       "      <td>1</td>\n",
       "    </tr>\n",
       "    <tr>\n",
       "      <th>1</th>\n",
       "      <td>PAGAMENTO CONTA CELULAR EM CANAIS</td>\n",
       "      <td>233</td>\n",
       "    </tr>\n",
       "    <tr>\n",
       "      <th>2</th>\n",
       "      <td>PAGAMENTO DE TITULOS-BCE</td>\n",
       "      <td>54</td>\n",
       "    </tr>\n",
       "    <tr>\n",
       "      <th>3</th>\n",
       "      <td>TAR DEBITO AUTOMATICO EFETIVADO</td>\n",
       "      <td>1</td>\n",
       "    </tr>\n",
       "    <tr>\n",
       "      <th>4</th>\n",
       "      <td>LIQUIDO DE VENCIMENTO</td>\n",
       "      <td>31</td>\n",
       "    </tr>\n",
       "    <tr>\n",
       "      <th>...</th>\n",
       "      <td>...</td>\n",
       "      <td>...</td>\n",
       "    </tr>\n",
       "    <tr>\n",
       "      <th>214</th>\n",
       "      <td>COMISSAO RECURSO NAO DISP. DIA</td>\n",
       "      <td>2</td>\n",
       "    </tr>\n",
       "    <tr>\n",
       "      <th>215</th>\n",
       "      <td>SAQUE AVULSO PARA PAGAMENTOS</td>\n",
       "      <td>2</td>\n",
       "    </tr>\n",
       "    <tr>\n",
       "      <th>216</th>\n",
       "      <td>TARIFA MENSALIDADE PACOTE SERVICOS</td>\n",
       "      <td>157</td>\n",
       "    </tr>\n",
       "    <tr>\n",
       "      <th>217</th>\n",
       "      <td>CR COB BLOQ COMP CONF RECEBIMENTO</td>\n",
       "      <td>2</td>\n",
       "    </tr>\n",
       "    <tr>\n",
       "      <th>218</th>\n",
       "      <td>TRANSF VALORES P/C/C MESMO TITULAR</td>\n",
       "      <td>21</td>\n",
       "    </tr>\n",
       "  </tbody>\n",
       "</table>\n",
       "<p>219 rows × 2 columns</p>\n",
       "</div>"
      ],
      "text/plain": [
       "                            alfa_grande  count\n",
       "0                     ESTORNO DE SEGURO      1\n",
       "1     PAGAMENTO CONTA CELULAR EM CANAIS    233\n",
       "2              PAGAMENTO DE TITULOS-BCE     54\n",
       "3       TAR DEBITO AUTOMATICO EFETIVADO      1\n",
       "4                 LIQUIDO DE VENCIMENTO     31\n",
       "..                                  ...    ...\n",
       "214      COMISSAO RECURSO NAO DISP. DIA      2\n",
       "215        SAQUE AVULSO PARA PAGAMENTOS      2\n",
       "216  TARIFA MENSALIDADE PACOTE SERVICOS    157\n",
       "217   CR COB BLOQ COMP CONF RECEBIMENTO      2\n",
       "218  TRANSF VALORES P/C/C MESMO TITULAR     21\n",
       "\n",
       "[219 rows x 2 columns]"
      ]
     },
     "execution_count": 42,
     "metadata": {},
     "output_type": "execute_result"
    }
   ],
   "source": [
    "df_pandas"
   ]
  }
 ],
 "metadata": {
  "kernelspec": {
   "display_name": "Python 3",
   "language": "python",
   "name": "python3"
  },
  "language_info": {
   "codemirror_mode": {
    "name": "ipython",
    "version": 3
   },
   "file_extension": ".py",
   "mimetype": "text/x-python",
   "name": "python",
   "nbconvert_exporter": "python",
   "pygments_lexer": "ipython3",
   "version": "3.6.9"
  },
  "toc": {
   "base_numbering": 1,
   "nav_menu": {},
   "number_sections": true,
   "sideBar": true,
   "skip_h1_title": false,
   "title_cell": "Table of Contents",
   "title_sidebar": "Contents",
   "toc_cell": false,
   "toc_position": {
    "height": "757px",
    "left": "526px",
    "top": "236px",
    "width": "236px"
   },
   "toc_section_display": true,
   "toc_window_display": false
  },
  "varInspector": {
   "cols": {
    "lenName": 16,
    "lenType": 16,
    "lenVar": 40
   },
   "kernels_config": {
    "python": {
     "delete_cmd_postfix": "",
     "delete_cmd_prefix": "del ",
     "library": "var_list.py",
     "varRefreshCmd": "print(var_dic_list())"
    },
    "r": {
     "delete_cmd_postfix": ") ",
     "delete_cmd_prefix": "rm(",
     "library": "var_list.r",
     "varRefreshCmd": "cat(var_dic_list()) "
    }
   },
   "types_to_exclude": [
    "module",
    "function",
    "builtin_function_or_method",
    "instance",
    "_Feature"
   ],
   "window_display": false
  }
 },
 "nbformat": 4,
 "nbformat_minor": 4
}
